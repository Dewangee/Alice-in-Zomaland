{
 "cells": [
  {
   "cell_type": "code",
   "execution_count": 2,
   "metadata": {},
   "outputs": [
    {
     "name": "stdout",
     "output_type": "stream",
     "text": [
      "/Users/surajprathikkumar/Desktop/PSOSM Project\n"
     ]
    }
   ],
   "source": [
    "from selenium import webdriver\n",
    "from bs4 import BeautifulSoup\n",
    "\n",
    "import platform\n",
    "import os \n",
    "import time\n",
    "\n",
    "cwd = os.getcwd()\n",
    "print(cwd)\n",
    "os = platform.system()\n",
    "\n",
    "user_agent = 'Mozilla/5.0 (X11; Linux x86_64) AppleWebKit/537.36 (KHTML, like Gecko) Chrome/60.0.3112.50 Safari/537.36'    \n",
    "\n",
    "options = webdriver.ChromeOptions()\n",
    "options.add_argument('--ignore-certificate-errors')\n",
    "options.add_argument('--incognito')\n",
    "options.add_argument('--headless')\n",
    "options.add_argument('user-agent={0}'.format(user_agent))\n",
    "\n",
    "\n",
    "\n",
    "if(os==\"Darwin\"):\n",
    "    driver = webdriver.Chrome(cwd + \"/chromedriver\", options=options)\n",
    "else:\n",
    "    driver = webdriver.Chrome(cwd + \"\\\\chromedriver.exe\", options=options)\n",
    "\n",
    "driver.execute_script(\"return navigator.userAgent\")\n",
    "\n",
    "driver.get(\"https://www.zomato.com/ncr/spice-market-kitchen-bar-saket-new-delhi\")"
   ]
  },
  {
   "cell_type": "code",
   "execution_count": 48,
   "metadata": {},
   "outputs": [
    {
     "name": "stdout",
     "output_type": "stream",
     "text": [
      "19157845\n"
     ]
    }
   ],
   "source": [
    "# window.RES_ID\n",
    "value_find = driver.page_source\n",
    "\n",
    "pageData = BeautifulSoup(value_find, 'html.parser')\n",
    "# print(pageData.prettify())\n",
    "\n",
    "restId_element  = driver.find_element_by_xpath(\"//script[30]\")\n",
    "innerhtml = str(restId_element.get_attribute(\"innerHTML\"))\n",
    "restID = innerhtml.split(\";\")[0].split(\" = \")[1]\n",
    "restID = restID.replace('\"', '')\n",
    "\n",
    "print(restID)\n"
   ]
  },
  {
   "cell_type": "code",
   "execution_count": 50,
   "metadata": {},
   "outputs": [
    {
     "name": "stdout",
     "output_type": "stream",
     "text": [
      "Collecting requests\n",
      "  Downloading requests-2.23.0-py2.py3-none-any.whl (58 kB)\n",
      "\u001b[K     |████████████████████████████████| 58 kB 732 kB/s eta 0:00:011\n",
      "\u001b[?25hRequirement already satisfied: urllib3!=1.25.0,!=1.25.1,<1.26,>=1.21.1 in /usr/local/Cellar/jupyterlab/2.0.1/libexec/lib/python3.7/site-packages (from requests) (1.25.8)\n",
      "Collecting certifi>=2017.4.17\n",
      "  Downloading certifi-2019.11.28-py2.py3-none-any.whl (156 kB)\n",
      "\u001b[K     |████████████████████████████████| 156 kB 2.6 MB/s eta 0:00:01\n",
      "\u001b[?25hCollecting chardet<4,>=3.0.2\n",
      "  Downloading chardet-3.0.4-py2.py3-none-any.whl (133 kB)\n",
      "\u001b[K     |████████████████████████████████| 133 kB 2.2 MB/s eta 0:00:01\n",
      "\u001b[?25hCollecting idna<3,>=2.5\n",
      "  Downloading idna-2.9-py2.py3-none-any.whl (58 kB)\n",
      "\u001b[K     |████████████████████████████████| 58 kB 3.1 MB/s eta 0:00:011\n",
      "\u001b[?25hInstalling collected packages: certifi, chardet, idna, requests\n",
      "Successfully installed certifi-2019.11.28 chardet-3.0.4 idna-2.9 requests-2.23.0\n",
      "Note: you may need to restart the kernel to use updated packages.\n"
     ]
    }
   ],
   "source": [
    "pip install requests"
   ]
  },
  {
   "cell_type": "code",
   "execution_count": 71,
   "metadata": {},
   "outputs": [
    {
     "name": "stdout",
     "output_type": "stream",
     "text": [
      "Spice Market - Kitchen & Bar\n",
      "28.5279273647\n",
      "77.2188619897\n"
     ]
    }
   ],
   "source": [
    "import requests\n",
    "\n",
    "base_url = \"https://developers.zomato.com/api/v2.1/\"\n",
    "user_apikey = \"523cfd33bf0fb13da6804af5d7ea148b\"\n",
    "\n",
    "headers = {'Accept': 'application/json', 'user-key': user_apikey}\n",
    "\n",
    "r = (requests.get(base_url + \"restaurant?res_id=\" + str(restID), headers=headers)).json()\n",
    "\n",
    "print(r['name'])\n",
    "print(r['location']['latitude'])\n",
    "print(r['location']['longitude'])\n",
    "\n",
    "# restaurant_details = {}\n",
    "# restaurant_details.update({\"name\" : r['name']})\n",
    "# restaurant_details.update({\"url\" : r['url']})\n",
    "# restaurant_details.update({\"location\" : r['location']['address']})\n",
    "# restaurant_details.update({\"city\" : r['location']['city']})\n",
    "# restaurant_details.update({\"city_ID\" : r['location']['city_id']})\n",
    "# restaurant_details.update({\"user_rating\" : r['user_rating']['aggregate_rating']})\n",
    "\n",
    "# restaurant_details = DotDict(restaurant_details)\n",
    "# print(restaurant_details)"
   ]
  }
 ],
 "metadata": {
  "kernelspec": {
   "display_name": "Python 3",
   "language": "python",
   "name": "python3"
  },
  "language_info": {
   "codemirror_mode": {
    "name": "ipython",
    "version": 3
   },
   "file_extension": ".py",
   "mimetype": "text/x-python",
   "name": "python",
   "nbconvert_exporter": "python",
   "pygments_lexer": "ipython3",
   "version": "3.7.6"
  }
 },
 "nbformat": 4,
 "nbformat_minor": 4
}
