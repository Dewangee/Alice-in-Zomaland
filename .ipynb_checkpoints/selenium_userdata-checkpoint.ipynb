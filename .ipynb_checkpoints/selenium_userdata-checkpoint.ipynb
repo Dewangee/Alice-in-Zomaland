{
 "cells": [
  {
   "cell_type": "code",
   "execution_count": 2,
   "metadata": {},
   "outputs": [],
   "source": [
    "targetUser = \"Foodiieeista\""
   ]
  },
  {
   "cell_type": "markdown",
   "metadata": {},
   "source": [
    "Folder for TargetUser"
   ]
  },
  {
   "cell_type": "code",
   "execution_count": 3,
   "metadata": {},
   "outputs": [],
   "source": [
    "import os\n",
    "\n",
    "if not os.path.exists(targetUser):\n",
    "    os.makedirs(targetUser)"
   ]
  },
  {
   "cell_type": "code",
   "execution_count": 9,
   "metadata": {},
   "outputs": [
    {
     "name": "stdout",
     "output_type": "stream",
     "text": [
      "Requirement already satisfied: selenium in /usr/local/Cellar/jupyterlab/2.0.1/libexec/lib/python3.7/site-packages (3.141.0)\n",
      "Requirement already satisfied: urllib3 in /usr/local/Cellar/jupyterlab/2.0.1/libexec/lib/python3.7/site-packages (from selenium) (1.25.8)\n",
      "Note: you may need to restart the kernel to use updated packages.\n"
     ]
    }
   ],
   "source": [
    "pip install selenium"
   ]
  },
  {
   "cell_type": "code",
   "execution_count": 8,
   "metadata": {},
   "outputs": [
    {
     "name": "stdout",
     "output_type": "stream",
     "text": [
      "Collecting bs4\n",
      "  Downloading bs4-0.0.1.tar.gz (1.1 kB)\n",
      "Collecting beautifulsoup4\n",
      "  Downloading beautifulsoup4-4.8.2-py3-none-any.whl (106 kB)\n",
      "\u001b[K     |████████████████████████████████| 106 kB 219 kB/s eta 0:00:01\n",
      "\u001b[?25hCollecting soupsieve>=1.2\n",
      "  Downloading soupsieve-2.0-py2.py3-none-any.whl (32 kB)\n",
      "Building wheels for collected packages: bs4\n",
      "  Building wheel for bs4 (setup.py) ... \u001b[?25ldone\n",
      "\u001b[?25h  Created wheel for bs4: filename=bs4-0.0.1-py3-none-any.whl size=1272 sha256=5e05ed557d71499b72e8611fc087125f09d032ff00d7726f209c62b4cc4db5ca\n",
      "  Stored in directory: /Users/surajprathikkumar/Library/Caches/pip/wheels/0a/9e/ba/20e5bbc1afef3a491f0b3bb74d508f99403aabe76eda2167ca\n",
      "Successfully built bs4\n",
      "Installing collected packages: soupsieve, beautifulsoup4, bs4\n",
      "Successfully installed beautifulsoup4-4.8.2 bs4-0.0.1 soupsieve-2.0\n",
      "Note: you may need to restart the kernel to use updated packages.\n"
     ]
    }
   ],
   "source": [
    "pip install bs4"
   ]
  },
  {
   "cell_type": "markdown",
   "metadata": {},
   "source": [
    "Connect Driver"
   ]
  },
  {
   "cell_type": "code",
   "execution_count": 4,
   "metadata": {},
   "outputs": [
    {
     "name": "stdout",
     "output_type": "stream",
     "text": [
      "/Users/surajprathikkumar/Desktop/PSOSM_Project\n"
     ]
    },
    {
     "data": {
      "text/plain": [
       "'Mozilla/5.0 (X11; Linux x86_64) AppleWebKit/537.36 (KHTML, like Gecko) Chrome/60.0.3112.50 Safari/537.36'"
      ]
     },
     "execution_count": 4,
     "metadata": {},
     "output_type": "execute_result"
    }
   ],
   "source": [
    "from selenium import webdriver\n",
    "from bs4 import BeautifulSoup\n",
    "\n",
    "import platform\n",
    "import os \n",
    "import time\n",
    "\n",
    "cwd = os.getcwd()\n",
    "print(cwd)\n",
    "os = platform.system()\n",
    "\n",
    "user_agent = 'Mozilla/5.0 (X11; Linux x86_64) AppleWebKit/537.36 (KHTML, like Gecko) Chrome/60.0.3112.50 Safari/537.36'    \n",
    "\n",
    "options = webdriver.ChromeOptions()\n",
    "options.add_argument('--ignore-certificate-errors')\n",
    "options.add_argument('--incognito')\n",
    "options.add_argument('--headless')\n",
    "options.add_argument('user-agent={0}'.format(user_agent))\n",
    "\n",
    "\n",
    "if(os==\"Darwin\"):\n",
    "    driver = webdriver.Chrome(cwd + \"/chromedriver\", options=options)\n",
    "else:\n",
    "    driver = webdriver.Chrome(cwd + \"\\\\chromedriver.exe\", options=options)\n",
    "\n",
    "driver.execute_script(\"return navigator.userAgent\")\n"
   ]
  },
  {
   "cell_type": "markdown",
   "metadata": {},
   "source": [
    "Total Ratings"
   ]
  },
  {
   "cell_type": "code",
   "execution_count": 5,
   "metadata": {},
   "outputs": [],
   "source": [
    "driver.get(\"https://www.zomato.com/\" + targetUser)\n",
    "\n",
    "value_find = driver.page_source\n",
    "\n",
    "pageData = BeautifulSoup(value_find, 'html.parser')\n",
    "#print(pageData.prettify())\n",
    "\n",
    "#Not Supported\n",
    "# noReviews  = driver.find_element_by_xpath(\"//ul[1]/div[1]/a[5]/h2/span\")\n",
    "\n",
    "# print(\"Reviews\", noReviews.text)"
   ]
  },
  {
   "cell_type": "markdown",
   "metadata": {},
   "source": [
    "Collecting Review and Ratings"
   ]
  },
  {
   "cell_type": "code",
   "execution_count": null,
   "metadata": {},
   "outputs": [
    {
     "name": "stdout",
     "output_type": "stream",
     "text": [
      "1\n",
      "https://www.zomato.com/ncr/tappa-aerocity-new-delhi\n",
      "Tappa is tucked in an extreme corner at world mark 1 adjascent to the miniso store. It's a pretty ambience in a widely spacious setting. Service was a little on the slower side during the day time but the staff is very polite and supportive.. Firstly they serve a complimentary mini dahi papdi tart. We ordered multigrain sev puri and dahi kebab for starters. Sev puri with guacamole was a pretty refreshing twist with a variety of flavours going on. Dahi kebab was great too. Then he tried their signature M&S pide pizza. This was a unique boat shaped pizza and tasted hell good. Overloaded with truffle scented mushroom and basil with a really yummy tangy sauce. The entire flavour profile was...read more\n",
      "2\n",
      "https://www.zomato.com/ncr/bikanervala-saket-new-delhi\n",
      "3\n",
      "https://www.zomato.com/ncr/bikanervala-saket-new-delhi\n",
      "4\n",
      "https://www.zomato.com/ncr/soho-bistro-cafe-saket-new-delhi\n",
      "I happened to visit this place twice, one in the day time and other at night. There is certainly a vibe about this cosy little cafe. The ambience is really really pretty, with three kinds of seating to choose from. One is a unique floor seating, perfect for big groups to chill. Then there is inner seating and a garden themed outer seating. The outer seating is just gorgeous in the night time. We happened to be around the Christmas time, and it couldn't get any more prettier. They also provided us with an individual heater in the biting cold. The food is great too. The basil pesto pasta was phenomenal nd common to both my visits. Must try. Margherita pizza was a lovely woodfired pizza...read more\n",
      "5\n",
      "https://www.zomato.com/ncr/hotel-delmaar-saket-new-delhi\n",
      "6\n",
      "https://www.zomato.com/ncr/rose-cafe-saket-new-delhi\n",
      "I visited Rose cafe around 5 years back while it had just opened then. Gradually this place gained a huge popularity and this cafe was on my try list yet again. On my second visit I found the seating to have become clumsier in order to accomadate maximum possible seats in the outdoor area which felt quite congested. Indoor seating is rustic English interiors in their signature blue nd pink theme. We ordered Mediterranean vegetables and pesto Rose cafe Melt which is basically an open sandwich. It was decent no wow factor to it.. Mozzarella baked penne was too scanty on the portion and was like a regular red sauce pasta served in a baking dish. The vegetarian White pizza was the show...read more\n",
      "7\n",
      "https://www.zomato.com/ncr/toxic-saket-new-delhi\n",
      "8\n",
      "https://www.zomato.com/ncr/toxic-saket-new-delhi\n",
      "9\n",
      "https://www.zomato.com/ncr/the-g-t-road-connaught-place-new-delhi\n",
      "10\n",
      "https://www.zomato.com/ncr/rose-cafe-saket-new-delhi\n",
      "11\n",
      "Message: no such element: Unable to locate element: {\"method\":\"xpath\",\"selector\":\"//section[1]/section/div[11]/div[1]/span\"}\n",
      "  (Session info: headless chrome=80.0.3987.149)\n",
      "\n"
     ]
    }
   ],
   "source": [
    "count = 1\n",
    "prev_count = 1\n",
    "\n",
    "reviews = {}\n",
    "rating = {}\n",
    "\n",
    "while True:\n",
    "    try:         \n",
    "        while True:\n",
    "            try:\n",
    "                print(count)\n",
    "                \n",
    "                #Type of Element\n",
    "                form_element  = driver.find_element_by_xpath(\"//section[1]/section/div[\"+str(count)+\"]/div[1]/span\")\n",
    "                \n",
    "                #Review\n",
    "                if(form_element.text==\"Review\"):\n",
    "                    link  = (driver.find_element_by_xpath(\"//section[1]/section/div[\"+str(count)+\"]/section[1]/div/a\")).get_attribute(\"href\")\n",
    "                    review = (driver.find_element_by_xpath(\"//section[1]/section/div[\"+str(count)+\"]/p\")).text\n",
    "                    \n",
    "                    if link not in reviews:\n",
    "                        reviews[link] = [review,1]\n",
    "                    else:\n",
    "                        reviews[link] = [reviews.get(link)[0],reviews.get(link)[1]+1]\n",
    "                    print(link)  \n",
    "                    print(review)\n",
    "                    \n",
    "                #Rating    \n",
    "                elif(form_element.text==\"Rate\"):\n",
    "                    link  = (driver.find_element_by_xpath(\"//section[1]/section/div[\"+str(count)+\"]/div[2]/a\")).get_attribute(\"href\")\n",
    "                    if link not in reviews:\n",
    "                        if link not in rating:\n",
    "                            rating[link] = [1]\n",
    "                        else:\n",
    "                            rating[link] = [rating.get(link)[0]+1]\n",
    "                    print(link)\n",
    "                    \n",
    "                #Photo etc..\n",
    "                else:\n",
    "                    link  = (driver.find_element_by_xpath(\"//section[1]/section/div[\"+str(count)+\"]/div[2]/a\")).get_attribute(\"href\")\n",
    "                    if link not in reviews:\n",
    "                        if link not in rating:\n",
    "                            rating[link] = [1]\n",
    "                    print(link)\n",
    "                    \n",
    "                count+=1\n",
    "            except Exception as e: \n",
    "                print(e)\n",
    "                break\n",
    "        \n",
    "        #Press Load Button\n",
    "        more_buttons = driver.find_elements_by_xpath(\"//section[1]/div\")\n",
    "        time.sleep(3)\n",
    "\n",
    "        for x in range(len(more_buttons)):\n",
    "            if more_buttons[x].is_displayed():\n",
    "                driver.execute_script(\"arguments[0].click();\", more_buttons[x])\n",
    "                time.sleep(3)\n",
    "        \n",
    "        # If no more new div \n",
    "        if(prev_count == count):\n",
    "            break\n",
    "        prev_count = count\n",
    "            \n",
    "    except Exception as e: \n",
    "        print(e)\n",
    "        print(\"done\")\n",
    "        break\n",
    "        \n",
    "print(\"done\")\n",
    "driver.quit()"
   ]
  },
  {
   "cell_type": "code",
   "execution_count": 7,
   "metadata": {},
   "outputs": [
    {
     "name": "stdout",
     "output_type": "stream",
     "text": [
      "{'https://www.zomato.com/ncr/quaff-microbrewery-dlf-cyber-city-gurgaon': ['Quaff Microbrewary  Bill no : 8105307 Amazing Ambience with super awesome beer , but arrogant manager & okayish food 🤷🏻\\u200d♂ Chalo aaj idhar ki baat karte hai. This place is located in Cyber Hub, jaha sari duniya jati hai memories create Karne k liye :p😃 So, hum bhi Gaye the with some of my friends. Wednesday eve, we were quite ambiguous in finding a good place for a get together. While passing by, checked the Bar Menu and Ala Carte. 👌🏻 Although there were no promotional schemes going on , prices were good. We decided to go in. We ordered following items : Fresh brewed Pitcher beer Nachos with Sour Cream & Salsa  Farmhouse Pizza Arrabiata Pasta Ambience : As per...read more', 1], 'https://www.zomato.com/ncr/the-chai-story-golf-course-road-gurgaon': ['Order no 1714718312 Chai Story  Though I  always appreciate the effort it takes to deliver a recipe to its customer, ranging to cooking from scratch, packaging and delivering , But sometimes, its just way too bad feeling of getting tricked. Zomato par discount tha, wanted to try Tacos which was unavailable at Taco Bell, So decided to give this outlet a try. Below are the bullet points which you should consider before ordering : 1.Ek to air tight packing nahi, jisse food gets super cold till they make it to the home. 2.second, packaging quality pics me dekh lo, you will get to know. 3.Third, the use of base sauce was so dominant that it was almost difficult to send the food down...read more', 1], 'https://www.zomato.com/ncr/master-koiis-sushant-lok-gurgaon': ['Master Koii’s A mother Son Duo narrating the Tales of Monk Koii’s culinary Experiences.   So, story ye hai , that I was keen on covering this place as it was a regular Pop option on Zomato list of most rated Go to place. To get over with feeling of Ambiguity I had, I read about Master Koii’s at several places and found out praises on nearly very social media platform.  Of course visuals will leave you tempted enough to visit, so would these :    DIY Lettuce Wrap : Here comes the first meal. Chote chote cute se bowl filled with asian ingredients, a generous load of chicken and fresh Lettuce leaves. 😋 Malaysian Turmeric Chicken : Woaaah ! Ye recipe mere taste bud ke liye...read more', 1], 'https://www.zomato.com/ncr/box8-desi-meals-hauz-khas-new-delhi': ['Box 8  Swag nahi, FOOD mera desi hai ! 😀 Kabhi kabhi kya hota hai , ki Pizza, Burger ya fast food bade paraye lagte hai ! Aur Desi Khana yad aata hai ! Wo jo Bachpan me ghar me banta tha :) Ab to sab yaadein hi rah gayi hai !🤷🏻\\u200d♂ Recently, Box 8 helped me reliving those memories with super awesome food. So, we were three people , super hungry after playing PS4 continuously for 4-5 hours. 🤪 Anurag ne bola , Aaj kuch desi mangate hai !  Opened Zomato, and I found Box 8 offering decent discounts so we decided to go ahead. 😍 ummmm, ye sab order kia humne. Mutton curry meal  Spicy Paneer Meal Paneer Makhni Meal Chicken Biryani  Chicken Loaded Wrap  Sabse Pahle...read more', 1], 'https://www.zomato.com/ncr/burma-burma-dlf-cyber-city-gurgaon': ['A befitting reply to all those who troll Ghaas-Foos Eaters ❤ When the entire nation must be enjoying their bed Tea or getting ready for their respective works , I am willing to educate people about this lovely Vegetarian’s Paradise.  You may all ask , Aisa kya hai ? Let me tell you. If you think Haldiram’s is your only rescue for vegetarian food, Then you are wrong my friend. Go here, you would come out with a changed notion. 🤘🏻 Are you fond of using adjectives like WOW, YUM, WOAAH ? Idhar chale Aao, bahot mauka milega.😍 Mr. Ashu Nayyar ( Operations Head, Delhi NCR) takes a pride in sharing the story of how Burma Burma from a home kitchen Experiment became a...read more', 1], 'https://www.zomato.com/ncr/zorambo-born-in-india-sector-53-gurgaon': ['Zorambo  Follow me on Instagram @poorachatora A chemistry between Zo n Rambo I was so excited to try this place and write about it. Why ?  Someone out there, wrote a very interesting story between 2 kinds of characters Zo and Rambo and gave a thematic feel to the cafe. Thats how ZORAMBO was born. Google it and you would know !👌🏻 Chalo, cafe ki bat karte hai ! I haven’t visited all of 4 cafes yet, which I definitely plan to, but I would tell you about one on Golf Course Road, Gurgaon. ✅ On the day of my Visit, there sat a enthusiastic foodie & Cafe Manager Mr. Vinayak who helped me in all the possible way to understand the concept and choose the right dishes for my early...read more', 1], 'https://www.zomato.com/raipur/healthbite-shankar-nagar': ['HealthBite BHAI LOG, HEALTHY FOOD BHI TASTY HO SAKTA HAI ! 😋 Apna ek yar rahta hai Raipur me . So, I went to see him for a week. Pahle do din to pel ke Raipuri street food khaya😅 ,Uske bad, I was back to Fitness. Bhai se pucha to usne bataya idhar Raipur me HEALTHBITE hai jo tumhe healthy khana dega. 🤷🏻\\u200d♂ Since you all know about my food preferences , I was bit sceptical. So, I called up owner ( probably a Pathan Bhai) to enquire about the food they serve. 🙋🏻\\u200d♂ I still remember bachpan me I never liked the idea of salads. Why ? Kyuki as per my dad , salad means cut onions, tomatoes, Cucumber & kakdi with a pinch of salt & pepper. 😅 Ab batao who would...read more', 1], 'https://www.zomato.com/ncr/behrouz-biryani-sikandarpur-gurgaon': ['Behrouz  Order id: 40932850 Follow me on INSTAGRAM -  Poorachatora  Dekho , usually I don’t write such negative reviews even if I don’t like the food. 😕 But aaj aisa dil tuta hai ki kya batau ? 😢 Hua yu ki, sham me mutton khane ka dil kar gaya ! Kuch galauto ya shami kebab type. To kuch din pahle hi I had ordered Biryani from this guys which i had liked.🙂 So, I opened PhonePe app, because there are good discounts available. Upon opening the Behrouz app, I found what I wanted. It was mentioned : Mini seekh Kebab 180/- Seekh kebab 350/- I thought lets order the costlier one. Probably they would give some good number of pieces. 🤷🏻\\u200d♂ Aur Bhai...read more', 1], 'https://www.zomato.com/ncr/salads-point-malviya-nagar-new-delhi': ['Saladspoint follow POORACHATORA on INSTAGRAM. Our ancestors lived long. You know why ? The air was fresh, food was unadulterated and consumption of rich vegetables made it easier to digest food and live a healthy life. ☺️ Our ab ke halaat deke lo ! This much pollution , over crowded cities where everyone is in the race of getting best ! 😣 Which eventually left people from middle class like us with an option of choosing the leftovers. 😕 When it comes to ordering food from online delivery companies, there is always a question about the hygiene & freshness in the mind. But let me make you aware about this newly opened outlet here where they sell such healthy goodness that...read more', 1], 'https://www.zomato.com/ncr/mughal-affair-sikandarpur-gurgaon': ['Mughal Affair ❤ Rajwaado wali bat ! You know what’s boring ? Opening Zomato and finding North Indian food EVERYWHERE.🤷🏻\\u200d♂ You know what’s interesting ? You can still like North Indian food.☺ Kya hai na, apan Lucknow me 2 saal rah ke aaye to wo Nawabo wali adat pad gayi hai ! Aur expectations is kadar ho gayi hai ki authentic flavours na ho to jeebh ko pata chal jata hai ! 😅 Chhodo ye sab, I am telling you about MUGHAL AFFAIR.  if you check my previous reviews, you would hardly find any review of North Indian Food. 😀 Ma baap aye the. And they don’t like fancy food. Zomato par reviews dekh ke I realised ki Ye jagah would be good for the lunch...read more', 1], 'https://www.zomato.com/ncr/wah-ji-wah-1-malviya-nagar-new-delhi': [\"Wah ji Wah , Malviya Nagar  follow POORACHATORA on INSTAGRAM. Naam me dam hai ! 💪🏻 one of my dear friend recently shifted from Punjabi Bagh to Malviya Nagar.  Bhukh lagi thi & we were quite confused about what to order !🤷🏻\\u200d♂️ Zomato suggested us Wah ji Wah. If you don't know , Wah ji Wah is a prime name across delhi NCR and their speciality is serving Indian Punjabi cuisine. They have around a half century outlets spread over Delhi NCR and some over other states too. 🙌🏻 Aap log ko to pata hi hai how choosy I am when it comes to food. 😅 Called them up, and Mr Manish entertained us. ☺️ I asked him what to order, aur bhai ne typical style me dishes...read more\", 1], 'https://www.zomato.com/ncr/the-good-phat-powered-by-avocados-dlf-phase-4-gurgaon': ['THE GOOD PHAT Follow POORACHATORA on instagram. Good Fat Vs Bad Fat 🥑  If you google good fat , the first thing will come is AVOCADOS ! & I swear, they have mastered Avocados ! I mean , just look at their menu , Who could have even thought of using Avocados so nicely in almost all their meals ? Hats off ! 🙌🏻 Dekho, Kitna bhi Ketosis kar lo, Diet kar lo, Workout kar lo, Fat to tumhe chahiye hi !You can’t deny that.  And why would you choose artificial Trans fat in junk foods over Avocados which is considered best in the game !🤷🏻\\u200d♂ Anyway, Lecture bahut ho gaya. Recently ordered few items and kasam se I am in love with the concept, packaging, innovation and...read more', 1], 'https://www.zomato.com/ncr/salads-point-sohna-road-gurgaon': ['SaladsPoint Follow POORACHATORA on INSTAGRAM. I still remember bachpan me I never liked the idea of salads. Why ? Kyuki as per my dad , salad means cut onions, tomatoes, Cucumber & kakdi with a pinch of salt & pepper. 😅 Ab batao who would like this kind of salad?😐 Here I am , staying in Gurgaon and loving my life everyday. 😌 Being a fitness person, ( and a foodie) its difficult to balance a healthy lifestyle without compromising the food.🤷🏻\\u200d♂️ My perception of seeing a Salad as a meal completely has changed. Let me tell you about this new place which I have recently started ordering from.✅ I used to order from some outlet called salad days but it was now...read more', 1], 'https://www.zomato.com/ncr/goli-vada-pav-no-1-raj-nagar-ghaziabad': ['Goli Vada Pav No 1  Follow POORACHATORA on INSTAGRAM. Pandey ji ka outlet & Crunchy Vada Pao  Few days back, I was in Ghaziabad for a friend’s Wedding party ! Aur waha ka street food kha kha ke thak gaya tha.🙊😕 Kuch different chahiye tha. Zomato suggested me Goli Vada Pao , Aur kasam se Maharashtra ka taste aa gaya !😋 I ordered many many items for me n my friends. Classic Vada Pao  Crispy Vada Pao Makka Palak Vada Pao Paneer Supreme Vada Pao   Hara bhara Roll Crunchy Roll  Paneer Roll Makka Palak Roll Order karke TV on kia tab tak delivery boy arrived ! Quick n Prompt. 👏🏻 All the items were neatly packed. Fresh and garam-garam. 👌🏻 Pahla bite liya aur...read more', 1], 'https://www.zomato.com/ncr/habibi-shawarma-sector-53-gurgaon': ['Habibi Shawarma  Follow POORACHATORA on INSTAGRAM. Hummus : Mera pehla pehla pyar :)😍 Out of many many reviews about Mediterranean food, especially Hummus & Pita, ye abhi tak ka sabse delicious Recipe I have ever tried ! Ma Kassam ! 🙊 I wish you could check my Zomato order feed. I order almost daily from here! 🙈 Had a short conversation with the manager/owner Mr Dhruv over Phone, and he was so courteous to answer any of my questions. 🙌🏻 I am always worried about the raw materials used. He told me they make each n every thing from scratch.  Thats why I was wondering ki Pita bread itne soft & fresh kaise hai ! 👏🏻 When it comes to health, he was equally...read more', 1], 'https://www.zomato.com/ncr/spice-it-golf-course-road-gurgaon': ['Spice It, IBIS golf Course Road, Gurgaon. Follow POORACHATORA on Instagram :) 5 star bhi ho aya, Jeb bhi nahi kati. 🙊 To Bhai log, scene ye tha , ki Apple ne new phone launch kia tha & I bought one of those. Friends insisted me for party, and I took them here. 😎 This place is located on Golf course road. Be it for fine dining, snacks, Buffet or Chai pe Charcha, This place surely makes me happy whenever I Visit. 😍 We tried several items. Ketli me chai , ummm ,Kadam se feel aa gayi !😋 Next were, Chilli cheese toast , went well with chai. Crunchy , cheesy & delicious. 🤤 Panner tikka was way too different from others. They call it  Zaafrani panir tikka.👌🏻 Pasta...read more', 1], 'https://www.zomato.com/ncr/food-exchange-novotel-new-delhi-aerocity-aerocity-new-delhi': ['follow poorachatora on INSTAGRAM  Assamese Food Festival by Chef Gitika’s Bakghor Food Exchange, Novotel Aerocity This was such a great occasion when renowned Assamese Chef Gitika was in the town for conducting Assamese Food Festival .😍 To be honest, I am bored of trying same kind of food in every 5 star hotel. Kuch alag chahiye tha. Aur idhar mil gaya. ✅ Though, I am posting this lil late. So, you might not be able to try the Assamese food now, But I am going to tell you briefly about how my experience went. 🤘🏻 Sabse pahle let me tell you, Assamese food is not just momos or Thukpa. Its much more than that. 🤦🏻\\u200d♂️ Jisse bhi pucho...read more', 1], 'https://www.zomato.com/ncr/yumsum-dimsum-dlf-cyber-city-gurgaon': [\"Follow poorachatora on Instagram. Order id : 1847116315 Bhai ye jagah is permanently closed I guess. Because if you want to order something, then select garma garam momos , pay the money and fir bhul jao.  kyuki order kabhi aayega hi nahi ! bechara zomato rider khoj khoj ke pareshan ho gaya lekin location mila hi nahi. are milaga kaise? These stupid people have written just Cyber City as the address.  are mere bhai, in entire cyber city , 1000 outlets like you can be opened. And upar se,  the number which they have provided is out of service. So, basically, you money , your hunger , your time is not worth the restaurant. Don't order simply. save your time...read more\", 1], 'https://www.zomato.com/ncr/nutriphy-dlf-phase-4-gurgaon': ['follow poorachatora on Instagram. http://bit.ly/FolowMi “Take care of your body. It’s the only place you have to live.” 😊 Kasam se Inka motto yahi hai shayed.✅ Very delighted to see how the trend is changing and people are being careful towards a healthy food choices. Aur apna scene to clear hai , Sat Sun party tabhi hogi jab Mon to Friday proper nutrition lunga.🤪 Ek baat badi buri lagti hai mujhe , in the name of Healthy food, most outlets often add lot of unwanted market made sauces or excessive use of spices. Khair, taste to better ho jata hai, lekin Nutrition ka koi ata pata nahi.🙁 I have been trying various outlets who deliver curated meals for your Fat...read more', 1], 'https://www.zomato.com/ncr/paul-dlf-phase-3-gurgaon': [\"Follow PooraChatora on INSTAGRAM. Paul's When it comes to Bakery , Sabse pahle man me France aata hai ! Having been tried many French based cafes , This one was surely different.🙌🏻 There are various kinds of Breads and savouries from other parts of the Europe. Samay kam tha, thats why could try only few things. 😯 Coffee , Enough to wake you up, Bring smile on your face. Ek ghoont ke bad hi I was thanking them already. Must Order. I had Latte. They serve coffee with freshly baked chouquette, an amazing pastry straight from France. 🤤 Croissant ... Mmmmm.... Such amazing ! This particular complex buttery pastry from Vienna has always amazed me. Idhar...read more\", 1], 'https://www.zomato.com/kolkata/cafe-i-can-flyy-hazra': ['On my recent trip to Kolkata, I had been here with one of my relative. was too good an experience. Ambience was great. food was awesome .....', 1], 'https://www.zomato.com/ncr/pizzagram-dlf-phase-3-gurgaon': ['Recently have become fan of their pizza. Easy on pockets, they serve variety of pizza. recently ordered chicken and paneer pizza. it was too good', 1], 'https://www.zomato.com/ncr/eggers-madhouse-sector-29-gurgaon': ['Aao dikhau tumhe ande ka funda !! Yar , egg lover ho agar, you cant miss this place. This place is located right there in HUDA city metro station north food court.  I still remember long back in 2015, Jab metro station se utar ke bhookh lagti thi , this was my survival spot.  there are many many outlets there nowadays, lekin tab there were just few options to explore. Aur sabse jyada healthy & hygienic place ki bat Kare to Eggers Madhouse was serving mouth watering delicacies without compromising the nutrition. Owner Rishabh se kai bar spoke about the wonderful idea , and found him very nice and informative.  Agar aap idhar jao, one thing you must order is their Masala Tea and Bun...read more', 1], 'https://www.zomato.com/ncr/cafe-bistreet-sector-22-gurgaon': [\"Follow PooraChatora on INSTAGRAM. Order ID : 1981856791 Kal rat ko ordered from here. Wasn't a great experience. ☹ Pricey in terms of quantity. Grilled chicken was spicy and tasted like Chicken tikka. ❎ There were 3 items in the combo. Hummus, Taste accha tha , lekin quantity was a disappointment. Just 15 ml. Even not enough to consume with 1 Pita bread.😕 There was one store bought Pita bread, a small 4 inch , which again was divided into  4 parts. 😒 Grilled Chicken was not at all grilled chicken.Usually with Pita & Hummus, the grilled chicken served is a mediterranean Recipe with hint of Zattar and Sumac, It was nowhere close. Taste more like a...read more\", 1], 'https://www.zomato.com/ncr/wabi-sabi-dlf-phase-4-gurgaon': ['Follow PooraChatora on INSTAGRAM. Wabi Sabi : beauty in flaws. 😊 Agar Zomato par name pop up ho to Japanese lagta hai, nahi ?🤨 And Japanese ho to we assume non vegetarian hoga. GALAT ! Saying and Selling Pure Vegetarian cuisine are two different things. ☝🏻 I have seen , people always have apprehensions about the authenticity of this Tag ‘ Pure Veg Restaurant” . Kya pata Non Veg our Veg ke utensils same ho ? Kya pata Chef ne Non Veg bana ke hath na dhoye ho ? Right ?😯 Kasam se, Haldirams se jo Pure Veg wali feeling aati hai , wo idhar se bhi aati hai. 👌🏻   I am surprised how people are so creative about choosing the name and...read more', 1], 'https://www.zomato.com/ncr/jungle-jamboree-dlf-phase-3-gurgaon': ['Follow PooraChatora on INSTAGRAM. Jungle Jungle Baat chali hai , Pata chala hai ! 🌴🌳🌲 Party to bahut ki hogi aap logo ne, ghar me , terrace par, restaurants me. Kabhi Jungle me party ki hai ?? 🧐 Chaaro Taraf beautiful animal caricatures , rugged concrete walls, floor of grasses , Beautiful Dim lights !😍 Feels like way too different than other Buffet restaurants. 👌🏻 Lets talk about Buffet spread. Itni jagah I have tried buffets, like Barbeque Nation, AB’s or Barbeque company - lekin itna detailed kahi nahi tha, gosh ! I challenge you , you can’t try each & Every item in their Buffet. 🤘🏻 3 Course suna höga, 5 Course suna höga...read more', 1], 'https://www.zomato.com/ncr/nonas-kitchen-dlf-phase-4-gurgaon': ['Follow PooraChatora on INSTAGRAM. Nona’s Kitchen 👩\\u200d🍳 Pyaar Wala khana 🥰 Hota kya hai , usually everyone says ki we serve our food with love & utmost care, but its rare when the above saying gets reflected in execution. 😮 Supermart me , ek outlet hai , Nona’s Kitchen. Its managed by Namrata. Before I talk about how did my experience with her food went, Hats off bolna hai boss ! 🙌🏻 Matlab ki she is someone who is as crazy as me when it comes to food. I asked her, do u mind telling me the meaning of Nona ? And the cute reply was, “ aajkal har gharo me ek baccha ya koi Nona nam se hota hai , jise hum bade pyar se khilate hai” 😍 Felt too happy to see...read more', 1], 'https://www.zomato.com/ncr/alrumi-food-company-dlf-phase-4-gurgaon': ['Poet Rumi aur Adnan bhai ka Chicken Ishtew 😍 Follow POORACHATORA on INSTAGRAM :) Kuch log jeene ke liye khate hai aur mai khane k liye jeeta hu. 😬 Aur aise kuch Aur interesting log mil jaye to baat hi kya. 😉 Many a times , it happens , when we scroll down food delivery app, we see uncommon names. And tab chull hoti hai to find more about it. 😆 So, few days back, I saw this name Alrumi food company.👆🏻 And read some of the good reviews about it. Post digging in, Kahani badi dilchasp Nikli. 👌🏻 Chef Adnan tells how deeply the 13th century mystic poet’s love lessons inspired him to create some recipes full of flavour and aroma. 🤤 I ordered few dishes which...read more', 1], 'https://www.zomato.com/ncr/fat-lulus-cafe-bar-dlf-phase-4-gurgaon': ['FAT LULU’s Follow POORACHATORA on INSTAGRAM :) Disclaimer: Read until you get bored. 😬 Miss LULU vs Italian Style Pizza Gurgaonkars, Delhites and Jaipurians must have definitely heard about this outlet called FAT LULU’s. Lekin kya kisi ko ye pata hai ki what does the name actually means ? 🧐 Nahi na ? Chalo, Mai batata hu. I am sure , your mouth gonna open wide awake after knowing the famous Italian Style Restaurant is named after one of the Co-Founder’s Ex Girlfriend LULU. 🙊 I didn’t blink an eye and kept listening and getting surprised. Acc to him, Miss Lulu was skinny and Pizza would have been the best bet to get those extra fats put on.😆 Do you know every...read more', 1], 'https://www.zomato.com/varanasi/the-taste-factory-2-mahmoorganj': ['Bhaiyo, Yaha ki tarif to likhni banti hai. First of all , though all my reviews have been written for the DELHI NCR based restaurants , but originally hum hai yahin ke ! Aur Kashi me to Jaan basti hai :)🙏🏻☺️ Being lived in delhi, my taste buds has been enhanced with variety of foods. Isiliye jaha b jata hu, options dhundhta hu. 😬🧐 Dekho , agar authentic kachauri sabji khana ho, ya jalebi jaisi chij ka naam sun ke muh me paani aa jaye to there are many many street food locations in Varanasi , but when it comes to variety , The Taste Factory is the name.👏🏻 Right parallel to Usha Gupta Lane, this place is located near the corner. Good parking space and clean...read more', 1], 'https://www.zomato.com/ncr/midnight-cravings-beyond-control-dlf-phase-5-gurgaon': ['Order id : 1417719333 & 1913688372\\n\\nBhai , 2 bar mangaya is jagah se , Butter Chicken & Lachcha Paratha Wala combo. \\nTaste ki baat ki jaaye , to bhaiyya pahli bar jabardast experience tha and dusri bar bhi bura nahi tha. Bas ek quantity ka issue hai probably, which always leaves me hungry. The chunks of chicken  are small and just 2 in quantity with gravy and paratha. Possibly, low price might be the reason for the same.', 1], 'https://www.zomato.com/ncr/chufang-the-chinese-kitchen-sector-12-gurgaon': ['Order id : 2112096008 Bade hi dukhi man se likhna pad raha hai ki aise bhi outlets hai jo bimari paros rahe hai ! Being an epicure and a connoisseur of food, I have written so many reviews so far , but never ever had such bad experience with any outlet so far. Kuch din pahle ki bat hai , I ordered a meal from this outlet , which was showing up in Zomato Mid night easy meals, Jaha they were giving a combo of noodles+ Chilli Chicken + Spring Rolls in just 109 rupees. Merely 109 ???   I was surprised ki Bande ko costing kaise aa rahi hogi. Anyway, somehow I ordered. The delivery reached in time. And for the courtesy , I always try to plate the dishes, take some good photographs and...read more', 1], 'https://www.zomato.com/AanganUdaipur': ['Aangan : The Lalit Lakshmi Niwas Palace Khoobsoorati ki baat ho to Jaban par Udaipur ka naam sabse pahle aata hai. Few Days Back, I got a chance to visit The City of Lakes. 😍 Ek to itni khoobsoorat Jagah , Upar se The Lalit me Stay. Hua na Sone me Suhaaga :)😁 Khair Stay ki bat kahi aur likhenge , lekin khane ki bat yahi likhenge.😋 I am very glad to mention about Mr Deeplok Javeria, Duty Manager of the Place , who made sure I faced no problem in my stay and dining in preferences. 🙌🏻 Mr Rupesh Gehlot, Ekdum kamal ke admi, Subah subah arranged wonderful breakfast . Usually, there were more of continental choices but I requested him to get me Authentic Udaipuri food, and...read more', 1], 'https://www.zomato.com/ncr/fitcal-pizza-sushant-lok-gurgaon': ['Order Id : 1157917522 1903175084 Agar koi aapse puche ki name some junk items : What will you gonna say ?  Probably, A pizza ? A burger ? 😁 Lol no, PIZZA CAN BE HEALTHY TOO. 👌🏻 And now if I tell you there is an outlet delivering Healthy Pizza, how about the idea ?😮 So, I came across this outlet named FitCal Pizza in my Zomato feed. Thodi confusion thi about co Existing of both words Fit & Pizza Together, Therefore, called the Owner Mr Nitesh , Seems to be very foodie and particular about his dishes. Told me how they are meeting Nutritionists & health related ppl in the industry to bring out something unique to the Gurgaonkars.👏🏻🙌🏻 For the first time, I...read more', 1], 'https://www.zomato.com/ncr/curry-gone-crazy-south-city-gurgaon': ['Before you place your order , Kripya review Pura padhe : 😮 South City 1 me , Right Opposite to Mayom Hospital, there is this small Outlet , Jaha these small team of an enthusiast chef & his boys are cooking something insane which once you taste will never forget it.🙌🏻 Agar aap Mansaahari ho & Gurgaon me rahte ho, Aur yaha ka khana nahi khaya hai, to you are missing something very important dude ! I MEAN IT. ☝🏻 Are ha, Be very careful in choosing the portion size of dishes. In Comparison to any other outlet in Gurgaon , the quantity is enormous. Don’t believe me ? Check the pics out. Owner is quite generous about the portion size. He says, if meat is good, let them eat...read more', 1], 'https://www.zomato.com/ncr/pluck-pullman-new-delhi-aerocity-aerocity-new-delhi': ['Pluck Pullman , Aerocity Stomachs Were full , Heart was still craving for more. 🤤 To bhaiya ye story hai ongoing Turkish Food festival ki. Its Happening RIGHT NOW at Pluck Restaurant , Pullman Hotel in Aerocity, New Delhi.😊 Being an Epicurean, I have always enjoyed trying out the Buffet Spreads across various Hotels.😋 But ye alag tha. How interesting it is, you get to meet the executive chefs and they give you round of renowned delicious cuisine from Ottoman Empire ?😉 There are many , many and many dishes I tried. Beware, Pics of some might make you drooling over.😋🤤 Agar aap Zomato khole , and type in Turkish Food, chances are, there will be many outlets...read more', 1], 'https://www.zomato.com/ncr/asia-alive-doubletree-by-hilton-sector-56-gurgaon': ['ASIA ALIVE  Being a foodie, i really enjoy fine dining. For the same reason I am member with Accor group, Leela Signature club too. Being a food critic , I never write to let down the efforts of chef & Servers.  Lekin kya kare, ab experience share na Kare to logo ko kaise pata chalega whether going to a place is a good idea or not ! On Constant persuasion of some Lady called ms Ritu, I purchased the Hilton yearly membership wherein I was allowed for a buffet for 2 people once a year.  Uske Alawa there were decent discounts every time you visit. If you read my blogs on places like Novotel & pullman and others , you would find how amazingly they created a magic for my taste...read more', 1], 'https://www.zomato.com/ncr/nirulas-3-sohna-road-gurgaon': ['Kitna bhi Kha ke jao movie dekhne , interval me bhook lag hi jati hai. 😬 But, buying a popcorn worth millions was not a good idea , hence decided to head towards recently opened Nirula’s outlet in ILD TRADE CENTRE at sohna road. ✅ Kya aapko pata hai ki Nirula’s was selling pizza in India 20 years before than Domino’s & Pizza Hut came to India ?🧐 Mujhe bhi nahi pata tha. Store Manager Mr Pravesh was so humble to have told me some surprising things about Nirula’s Chain in India.☺️ Pizza & Ice Cream , these are the 2 items which Nirula’s can always boast about. 👌🏻 Anyway , Pahle Pet Pooja fir kaam dooja. 🙈 We ordered following items : Hot Shoppe Pizza Big...read more', 1], 'https://www.zomato.com/ncr/mala-akbari-dlf-phase-3-gurgaon': ['*A Gastronomical journey with a great learning of history of recipes* Jab hum kisi outlet par jate hai , we are mostly concerned with taste and quick service. But imagine a situation, With every food you get to try, agar aapko koi passionately uski History bataye to ? Wouldnt that be amazing ?😇 So, I got to find out one such place which is actually an underdog. Is outlet par, you will find a handsome gentleman Mr. Bhaskar Menon, who is so passionate about food, that he will come to you and will explain about the kind of cuisine they serve. ☺️ Matlab ki bahut kum jagah I have seen someone who is so passionate and proud about what is he serving to society. 👌🏻👍🏻 Mujhe...read more', 1]}\n",
      "{'https://www.zomato.com/ncr/mojo-pizza-2x-toppings-sohna-road-gurgaon': [1], 'https://www.zomato.com/ncr/adda-by-striker-sector-29-gurgaon': [1], 'https://www.zomato.com/varanasi/tandoor-villa-nadesar': [1], 'https://www.zomato.com/ncr/the-flying-gastronaut-dlf-phase-4-gurgaon': [1]}\n",
      "39\n",
      "4\n"
     ]
    }
   ],
   "source": [
    "print(reviews)\n",
    "print(rating)\n",
    "print(len(reviews))\n",
    "print(len(rating))"
   ]
  },
  {
   "cell_type": "markdown",
   "metadata": {},
   "source": [
    "Writing in File"
   ]
  },
  {
   "cell_type": "code",
   "execution_count": 8,
   "metadata": {},
   "outputs": [],
   "source": [
    "import pickle\n",
    "\n",
    "with open(targetUser +'/_reviewdata.pkl', 'wb') as output:\n",
    "    pickle.dump(reviews, output)\n",
    "    \n",
    "with open(targetUser +'/_ratingdata.pkl', 'wb') as output:\n",
    "    pickle.dump(rating, output)\n",
    "    "
   ]
  }
 ],
 "metadata": {
  "kernelspec": {
   "display_name": "Python 3",
   "language": "python",
   "name": "python3"
  },
  "language_info": {
   "codemirror_mode": {
    "name": "ipython",
    "version": 3
   },
   "file_extension": ".py",
   "mimetype": "text/x-python",
   "name": "python",
   "nbconvert_exporter": "python",
   "pygments_lexer": "ipython3",
   "version": "3.7.6"
  }
 },
 "nbformat": 4,
 "nbformat_minor": 4
}
